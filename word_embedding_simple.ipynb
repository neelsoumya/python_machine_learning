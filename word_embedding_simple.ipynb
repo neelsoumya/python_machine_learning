{
 "cells": [
  {
   "cell_type": "code",
   "execution_count": null,
   "id": "installation",
   "metadata": {},
   "outputs": [],
   "source": [
    "!pip install gensim matplotlib scikit-learn"
   ]
  },
  {
   "cell_type": "code",
   "execution_count": null,
   "id": "import-libraries",
   "metadata": {},
   "outputs": [],
   "source": [
    "import gensim.downloader as api\n",
    "import numpy as np\n",
    "import matplotlib.pyplot as plt\n",
    "from sklearn.manifold import TSNE"
   ]
  },
  {
   "cell_type": "code",
   "execution_count": null,
   "id": "load-model",
   "metadata": {},
   "outputs": [],
   "source": [
    "# Load a pre-trained word embedding model (Word2Vec)\n",
    "model = api.load(\"word2vec-google-news-300\")"
   ]
  },
  {
   "cell_type": "code",
   "execution_count": null,
   "id": "choose-words",
   "metadata": {},
   "outputs": [],
   "source": [
    "# Choose a set of words\n",
    "words = [\"king\", \"queen\", \"man\", \"woman\", \"prince\", \"princess\", \"kingdom\", \"throne\", \"crown\"]"
   ]
  },
  {
   "cell_type": "code",
   "execution_count": null,
   "id": "get-embeddings",
   "metadata": {},
   "outputs": [],
   "source": [
    "# Get word embeddings\n",
    "embeddings = np.array([model[word] for word in words])"
   ]
  },
  {
   "cell_type": "code",
   "execution_count": null,
   "id": "reduce-dimensions",
   "metadata": {},
   "outputs": [],
   "source": [
    "# Reduce dimensions using t-SNE\n",
    "tsne = TSNE(n_components=2, random_state=42)\n",
    "embeddings_2d = tsne.fit_transform(embeddings)"
   ]
  },
  {
   "cell_type": "code",
   "execution_count": null,
   "id": "plot-embeddings",
   "metadata": {},
   "outputs": [],
   "source": [
    "# Plot the word embeddings\n",
    "plt.figure(figsize=(8, 6))\n",
    "plt.scatter(embeddings_2d[:, 0], embeddings_2d[:, 1], color=\"red\")\n",
    "\n",
    "# Annotate points\n",
    "for i, word in enumerate(words):\n",
    "    plt.annotate(word, (embeddings_2d[i, 0], embeddings_2d[i, 1]), fontsize=12)\n",
    "\n",
    "plt.title(\"t-SNE Visualization of Word Embeddings\")\n",
    "plt.xlabel(\"t-SNE Dimension 1\")\n",
    "plt.ylabel(\"t-SNE Dimension 2\")\n",
    "plt.grid(True)\n",
    "plt.show()"
   ]
  }
 ],
 "metadata": {
  "kernelspec": {
   "display_name": "Python 3",
   "language": "python",
   "name": "python3"
  },
  "language_info": {
   "codemirror_mode": {
    "name": "ipython",
    "version": 3
   },
   "file_extension": ".py",
   "mimetype": "text/x-python",
   "name": "python",
   "nbconvert_exporter": "python",
   "pygments_lexer": "ipython3",
   "version": "3.8.5"
  }
 },
 "nbformat": 4,
 "nbformat_minor": 5
}
