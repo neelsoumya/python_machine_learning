{
  "nbformat": 4,
  "nbformat_minor": 0,
  "metadata": {
    "colab": {
      "provenance": [],
      "authorship_tag": "ABX9TyPD8chW8fuSuZF1n9PaRcbg",
      "include_colab_link": true
    },
    "kernelspec": {
      "name": "python3",
      "display_name": "Python 3"
    },
    "language_info": {
      "name": "python"
    }
  },
  "cells": [
    {
      "cell_type": "markdown",
      "metadata": {
        "id": "view-in-github",
        "colab_type": "text"
      },
      "source": [
        "<a href=\"https://colab.research.google.com/github/neelsoumya/python_machine_learning/blob/main/feature_selection_LASSO_trees.ipynb\" target=\"_parent\"><img src=\"https://colab.research.google.com/assets/colab-badge.svg\" alt=\"Open In Colab\"/></a>"
      ]
    },
    {
      "cell_type": "markdown",
      "source": [
        "# Feature selection\n",
        "\n",
        "## LASSO"
      ],
      "metadata": {
        "id": "IPZ84p-jPDlH"
      }
    },
    {
      "cell_type": "code",
      "execution_count": 1,
      "metadata": {
        "colab": {
          "base_uri": "https://localhost:8080/"
        },
        "id": "UOKmionjO9De",
        "outputId": "62e854b5-d6db-49b3-aed3-d863abdbb404"
      },
      "outputs": [
        {
          "output_type": "stream",
          "name": "stdout",
          "text": [
            "Chosen alpha: 0.078918\n",
            "Selected feature indices by LASSO: [0, 1, 2, 3, 4, 5, 7, 8, 9]\n",
            "Selected feature names by LASSO: ['age', 'sex', 'bmi', 'bp', 's1', 's2', 's4', 's5', 's6']\n"
          ]
        }
      ],
      "source": [
        "from sklearn.datasets import load_diabetes\n",
        "from sklearn.preprocessing import StandardScaler\n",
        "from sklearn.linear_model import LassoCV\n",
        "import numpy as np\n",
        "\n",
        "# Load open dataset\n",
        "data = load_diabetes()\n",
        "X = data.data\n",
        "y = data.target\n",
        "feature_names = data.feature_names\n",
        "\n",
        "# Standardize features\n",
        "X_scaled = StandardScaler().fit_transform(X)\n",
        "\n",
        "# LASSO with cross-validated alpha\n",
        "lasso = LassoCV(cv=5, random_state=1).fit(X_scaled, y)\n",
        "\n",
        "# Selected features\n",
        "selected_idx = np.flatnonzero(lasso.coef_ != 0)\n",
        "selected_names = [feature_names[i] for i in selected_idx]\n",
        "\n",
        "print(f\"Chosen alpha: {lasso.alpha_:.6f}\")\n",
        "print(\"Selected feature indices by LASSO:\", selected_idx.tolist())\n",
        "print(\"Selected feature names by LASSO:\", selected_names)"
      ]
    },
    {
      "cell_type": "markdown",
      "source": [
        "## Random forests"
      ],
      "metadata": {
        "id": "osO6cjHnPdmr"
      }
    },
    {
      "cell_type": "code",
      "source": [
        "from sklearn.datasets import load_diabetes\n",
        "from sklearn.ensemble import RandomForestClassifier\n",
        "import numpy as np\n",
        "\n",
        "# Load the same open dataset (diabetes)\n",
        "data = load_diabetes()\n",
        "X = data.data\n",
        "y_reg = data.target\n",
        "feature_names = data.feature_names\n",
        "\n",
        "# Convert regression target to binary: 1 if above median, else 0\n",
        "y = (y_reg > np.median(y_reg)).astype(int)\n",
        "\n",
        "# Fit a random forest\n",
        "clf = RandomForestClassifier(n_estimators=100, random_state=42)\n",
        "clf.fit(X, y)\n",
        "\n",
        "# Get feature importances (print with names and indices)\n",
        "importances = clf.feature_importances_\n",
        "for i, imp in enumerate(importances):\n",
        "    print(f\"Feature {i} ({feature_names[i]}): importance {imp:.3f}\")"
      ],
      "metadata": {
        "colab": {
          "base_uri": "https://localhost:8080/"
        },
        "id": "2WaX0JFMPf-1",
        "outputId": "78b6c1e0-2690-46e9-b36b-e9939aa120b0"
      },
      "execution_count": 2,
      "outputs": [
        {
          "output_type": "stream",
          "name": "stdout",
          "text": [
            "Feature 0 (age): importance 0.073\n",
            "Feature 1 (sex): importance 0.023\n",
            "Feature 2 (bmi): importance 0.188\n",
            "Feature 3 (bp): importance 0.117\n",
            "Feature 4 (s1): importance 0.077\n",
            "Feature 5 (s2): importance 0.087\n",
            "Feature 6 (s3): importance 0.093\n",
            "Feature 7 (s4): importance 0.073\n",
            "Feature 8 (s5): importance 0.186\n",
            "Feature 9 (s6): importance 0.082\n"
          ]
        }
      ]
    }
  ]
}