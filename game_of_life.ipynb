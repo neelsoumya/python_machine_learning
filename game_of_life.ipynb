{
 "cells": [
  {
   "cell_type": "markdown",
   "metadata": {},
   "source": [
    "# Conway's Game of Life with Gosper Glider Gun\n",
    "This notebook simulates Conway's Game of Life with an interesting pattern called the Gosper Glider Gun.\n",
    "The pattern continuously generates small moving structures called gliders."
   ]
  },
  {
   "cell_type": "code",
   "execution_count": null,
   "metadata": {},
   "outputs": [],
   "source": [
    "import numpy as np\n",
    "import matplotlib.pyplot as plt\n",
    "from matplotlib.animation import FuncAnimation"
   ]
  },
  {
   "cell_type": "markdown",
   "metadata": {},
   "source": [
    "## Initialize the Grid\n",
    "The following function initializes a grid and places the Gosper Glider Gun pattern on it."
   ]
  },
  {
   "cell_type": "code",
   "execution_count": null,
   "metadata": {},
   "outputs": [],
   "source": [
    "def initialize_grid(rows, cols):\n",
    "    \"\"\"Initialize the grid with the Gosper Glider Gun pattern\"\"\"\n",
    "    grid = np.zeros((rows, cols), dtype=int)\n",
    "\n",
    "    # Coordinates for the Gosper Glider Gun\n",
    "    gun = [\n",
    "        (5, 1), (5, 2), (6, 1), (6, 2),  # Block\n",
    "        (5, 11), (6, 11), (7, 11),       # Left part\n",
    "        (4, 12), (8, 12), \n",
    "        (3, 13), (3, 14), (9, 13), (9, 14),\n",
    "        (6, 15), (4, 16), (8, 16),\n",
    "        (5, 17), (6, 17), (7, 17),\n",
    "        (6, 18),\n",
    "        (3, 21), (4, 21), (5, 21), (3, 22), (4, 22), (5, 22),  # Right square\n",
    "        (2, 23), (6, 23), \n",
    "        (1, 25), (2, 25), (6, 25), (7, 25),\n",
    "        (3, 35), (4, 35), (3, 36), (4, 36)  # Right block\n",
    "    ]\n",
    "\n",
    "    for r, c in gun:\n",
    "        grid[r, c] = 1\n",
    "    \n",
    "    return grid"
   ]
  },
  {
   "cell_type": "markdown",
   "metadata": {},
   "source": [
    "## Update Function\n",
    "This function updates the grid based on the rules of Conway's Game of Life."
   ]
  },
  {
   "cell_type": "code",
   "execution_count": null,
   "metadata": {},
   "outputs": [],
   "source": [
    "def update(frame_num, img, grid):\n",
    "    \"\"\"Update the grid for the next generation\"\"\"\n",
    "    new_grid = grid.copy()\n",
    "    rows, cols = grid.shape\n",
    "\n",
    "    for r in range](#)

