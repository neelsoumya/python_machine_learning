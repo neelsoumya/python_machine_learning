{
 "cells": [
  {
   "cell_type": "code",
   "execution_count": null,
   "id": "b1a1e8b7",
   "metadata": {},
   "outputs": [],
   "source": [
    "!pip install gensim plotly scikit-learn"
   ]
  },
  {
   "cell_type": "code",
   "execution_count": null,
   "id": "3c2e4c6d",
   "metadata": {},
   "outputs": [],
   "source": [
    "import gensim.downloader as api\n",
    "import numpy as np\n",
    "import plotly.express as px\n",
    "from sklearn.manifold import TSNE\n",
    "import pandas as pd"
   ]
  },
  {
   "cell_type": "markdown",
   "id": "2d5a8b1a",
   "metadata": {},
   "source": [
    "### Load pre-trained Word2Vec model"
   ]
  },
  {
   "cell_type": "code",
   "execution_count": null,
   "id": "1c0a5f8d",
   "metadata": {},
   "outputs": [],
   "source": [
    "model = api.load(\"word2vec-google-news-300\")"
   ]
  },
  {
   "cell_type": "markdown",
   "id": "6e2e5c8c",
   "metadata": {},
   "source": [
    "### Select a set of related words"
   ]
  },
  {
   "cell_type": "code",
   "execution_count": null,
   "id": "5d4f9d1e",
   "metadata": {},
   "outputs": [],
   "source": [
    "words = [\"king\", \"queen\", \"man\", \"woman\", \"prince\", \"princess\", \"kingdom\", \"throne\", \"crown\", \n",
    "         \"dog\", \"cat\", \"lion\", \"tiger\", \"apple\", \"banana\", \"car\", \"bus\", \"train\", \"doctor\", \"nurse\"]"
   ]
  },
  {
   "cell_type": "markdown",
   "id": "7a0e8f3d",
   "metadata": {},
   "source": [
    "### Get word embeddings"
   ]
  },
  {
   "cell_type": "code",
   "execution_count": null,
   "id": "3c6b9c5e",
   "metadata": {},
   "outputs": [],
   "source": [
    "embeddings = np.array([model[word] for word in words])"
   ]
  },
  {
   "cell_type": "markdown",
   "id": "9c2e5b2a",
   "metadata": {},
   "source": [
    "### Reduce dimensions using t-SNE"
   ]
  },
  {
   "cell_type": "code",
   "execution_count": null,
   "id": "8d1f4a6e",
   "metadata": {},
   "outputs": [],
   "source": [
    "tsne = TSNE(n_components=2, random_state=42, perplexity=5)\n",
    "embeddings_2d = tsne.fit_transform(embeddings)"
   ]
  },
  {
   "cell_type": "markdown",
   "id": "0c1e4a1f",
   "metadata": {},
   "source": [
    "### Create a DataFrame for visualization"
   ]
  },
  {
   "cell_type": "code",
   "execution_count": null,
   "id": "4a6c1e8b",
   "metadata": {},
   "outputs": [],
   "source": [
    "df = pd.DataFrame(embeddings_2d, columns=[\"x\", \"y\"])\n",
    "df[\"word\"] = words"
   ]
  },
  {
   "cell_type": "markdown",
   "id": "7e1a3c8d",
   "metadata": {},
   "source": [
    "### Plot using Plotly"
   ]
  },
  {
   "cell_type": "code",
   "execution_count": null,
   "id": "2c5b9a6e",
   "metadata": {},
   "outputs": [],
   "source": [
    "fig = px.scatter(df, x=\"x\", y=\"y\", text=\"word\", title=\"Interactive t-SNE Word Embeddings Visualization\")\n",
    "fig.update_traces(textposition=\"top center\", marker=dict(size=8, color=\"red\"))\n",
    "fig.update_layout(\n",
    "    width=800, height=600,\n",
    "    xaxis_title=\"t-SNE Dimension 1\",\n",
    "    yaxis_title=\"t-SNE Dimension 2\",\n",
    "    hovermode=\"closest\"\n",
    ")\n",
    "fig.show()"
   ]
  }
 ],
 "metadata": {
  "kernelspec": {
   "display_name": "Python 3",
   "language": "python",
   "name": "python3"
  },
  "language_info": {
   "codemirror_mode": {
    "name": "ipython",
    "version": 3
   },
   "file_extension": ".py",
   "mimetype": "text/x-python",
   "name": "python",
   "nbconvert_exporter": "python",
   "pygments_lexer": "ipython3",
   "version": "3.8.5"
  }
 },
 "nbformat": 4,
 "nbformat_minor": 5
}
